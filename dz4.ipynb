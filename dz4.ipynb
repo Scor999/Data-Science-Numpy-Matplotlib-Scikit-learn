{
  "cells": [
    {
      "cell_type": "markdown",
      "metadata": {
        "id": "view-in-github",
        "colab_type": "text"
      },
      "source": [
        "<a href=\"https://colab.research.google.com/github/Scor999/Data-Science-Numpy-Matplotlib-Scikit-learn/blob/main/dz4.ipynb\" target=\"_parent\"><img src=\"https://colab.research.google.com/assets/colab-badge.svg\" alt=\"Open In Colab\"/></a>"
      ]
    },
    {
      "cell_type": "markdown",
      "id": "f557f010",
      "metadata": {
        "id": "f557f010"
      },
      "source": [
        "### Предел функции. Часть 2"
      ]
    },
    {
      "cell_type": "markdown",
      "id": "4e716a3b",
      "metadata": {
        "id": "4e716a3b"
      },
      "source": [
        "##### Задание 1\n",
        "Найти пределы\n",
        "1. $\\lim\\limits_{x\\to\\infty} [\\ln(x + 3) − \\ln(x)]$\n",
        "2. $\\lim\\limits_{x\\to0} \\frac{\\ln(1+2x)}{\\arcsin{3x}}$\n",
        "3. $\\lim\\limits_{x\\to0} \\frac{7^x - 1}{3^x - 1}$\n",
        "4. $\\lim\\limits_{a\\to0} \\frac{(x+a)^3-x^3}{a}$\n",
        "5. $\\lim\\limits_{x\\to\\infty} (\\frac{x^3}{5x^2+1} - \\frac{x^2}{5x-3})$\n",
        "6. $\\lim\\limits_{x\\to0} \\frac{1-\\cos{4x}}{2x\\cdot tg{2x}}$\n",
        "7. $\\lim\\limits_{x\\to\\infty} x\\sin{\\frac2x}$\n",
        "8. $\\lim\\limits_{x\\to0} (1+tg(x))^{ctg(x)}$\n",
        "9. $\\lim\\limits_{x\\to0} (\\cos2x)^\\frac{1}{\\sin^2{x}}$\n",
        "10. $\\lim\\limits_{x\\to0} \\frac{\\sqrt{1+x\\sin{x}}-1}{x^2}$\n",
        "\n",
        "\n",
        "##### Решение"
      ]
    },
    {
      "cell_type": "markdown",
      "id": "bf894cb7",
      "metadata": {
        "id": "bf894cb7"
      },
      "source": [
        "**1. $\\lim\\limits_{x\\to\\infty} [\\ln(x + 3) − \\ln(x)]$**\n",
        "$$\\ln \\frac{x}{y} = \\ln{x} - \\ln{}y$$\n",
        "$$\\ln(x + 3) − \\ln(x) = \\ln(\\frac{x + 3}{x}) = \\ln(1+\\frac3x)$$\n",
        "$$\\lim\\limits_{x\\to\\infty} \\ln(1+\\frac3x) = \\lim\\limits_{x\\to\\infty} 1 = 0$$"
      ]
    },
    {
      "cell_type": "markdown",
      "id": "e9762c14",
      "metadata": {
        "id": "e9762c14"
      },
      "source": [
        "**3. $\\lim\\limits_{x\\to0} \\frac{7^x - 1}{3^x - 1}$**\n",
        "$$\\frac{7^x - 1}{3^x - 1} = \\frac{\\frac{7^x}{7^x} - \\frac{1}{7^x}}{\\frac{3^x}{7^x} - \\frac{1}{7^x}} = \\frac{1-0}{\\frac{3^x}{7^x} - 0} = \\frac{1}{\\frac{3^x}{7^x}} = \\frac{7^x}{3^x} = \\frac{7}{3}^x$$\n",
        "$$\\lim\\limits_{x\\to0} \\frac{7}{3}^x = \\lim\\limits_{x\\to0} \\frac{7}{3}^0 = 1$$\n"
      ]
    },
    {
      "cell_type": "markdown",
      "id": "f1c167a7",
      "metadata": {
        "id": "f1c167a7"
      },
      "source": [
        "**4. $\\lim\\limits_{a\\to0} \\frac{(x+a)^3-x^3}{a}$**\n",
        "$$\\frac{(x+a)^3-x^3}{a} = \\frac{x^3+3x^2a+3xa^2+a^3-x^3}{a} = \\frac{a\\cdot (3x^2+3xa+a^2)}{a} = 3x^2 + 3xa + a^2$$\n",
        "$$\\lim\\limits_{a\\to0} (3x^2 + 3xa + a^2) = \\lim\\limits_{a\\to0} (3x^2 + 3x\\cdot . + 0^2) = 3x^2$$"
      ]
    },
    {
      "cell_type": "markdown",
      "id": "5a65cacd",
      "metadata": {
        "id": "5a65cacd"
      },
      "source": [
        "**5. $\\lim\\limits_{x\\to\\infty} (\\frac{x^3}{5x^2+1} - \\frac{x^2}{5x-3})$**\n",
        "Разделим и умножим на $x^2$ и $x$\n",
        "$$(\\frac{x^3}{5x^2+1} - \\frac{x^2}{5x-3}) = \\frac{x}{5+\\frac{1}{x^2}} - \\frac{x}{5+\\frac{3}{x}} = \\frac{x}{5} - \\frac{x}{5} = \\frac{x-x}{5} = \\frac{0}{5} = 0$$\n",
        "$$\\lim\\limits_{x\\to\\infty} (\\frac{x^3}{5x^2+1} - \\frac{x^2}{5x-3}) = 0$$"
      ]
    },
    {
      "cell_type": "markdown",
      "id": "56caf9d7",
      "metadata": {
        "id": "56caf9d7"
      },
      "source": [
        "**6. $\\lim\\limits_{x\\to0} \\frac{1-\\cos{4x}}{2x\\cdot tg{2x}}$**\n",
        "$$tg = \\frac{sin}{cos}$$\n",
        "$$\\lim\\limits_{x\\to0} \\frac{\\cos{2x}\\cdot (1-\\cos{4x})}{2x\\sin{2x}} = \\frac12  \\cdot \\lim\\limits_{x\\to0} \\cos{2x} \\cdot \\lim\\limits_{x\\to0} \\frac{1-\\cos{4x}}{x\\sin{2x}}$$\n",
        "$$\\lim\\limits_{x\\to0} \\cos{2x} = 1$$\n",
        "$$\\frac12  \\cdot 1 \\cdot \\lim\\limits_{x\\to0} \\frac{1-\\cos{4x}}{x\\sin{2x}} = \\frac12  \\cdot 1 \\cdot \\lim\\limits_{x\\to0} \\frac{1-\\cos{4x}}{2x^2\\frac{\\sin{2x}}{x}}$$\n",
        "$\\lim\\limits_{x\\to0} \\frac{\\sin{2x}}{x} = 1$ - первый замечательный предел\n",
        "$$\\frac12 \\cdot \\lim\\limits_{x\\to0} \\frac{1-\\cos{4x}}{2x^2} = \\frac12 \\cdot \\lim\\limits_{x\\to0} \\frac{sin^2{2x}}{2x^2} = \\frac12 \\cdot \\lim\\limits_{x\\to0} 4  = 2$$"
      ]
    },
    {
      "cell_type": "markdown",
      "id": "bd025ca9",
      "metadata": {
        "id": "bd025ca9"
      },
      "source": [
        "**7. $\\lim\\limits_{x\\to\\infty} x\\sin{\\frac2x}$**\n",
        "заменим, $t = \\frac{2}{x}, x \\to \\infty, t \\to 0$\n",
        "$$\\lim\\limits_{t\\to0} \\frac{2}{t}\\sin{t} = 2 \\lim\\limits_{t\\to0} \\frac{\\sin{t}}{t} = 2$$"
      ]
    },
    {
      "cell_type": "markdown",
      "id": "a1e0c944",
      "metadata": {
        "id": "a1e0c944"
      },
      "source": [
        "**8. $\\lim\\limits_{x\\to0} (1+tg(x))^{ctg(x)}$**<br>\n",
        "Пусть $tg(x) = \\frac{1}{t}, при x \\to 0, t \\to \\infty$\n",
        "$$\\lim\\limits_{x\\to0} (1+tg(x))^{ctg(x)} = \\lim\\limits_{t\\to\\infty} (1+\\frac{1}{t})^{t} = e$$"
      ]
    },
    {
      "cell_type": "markdown",
      "id": "a692dc9c",
      "metadata": {
        "id": "a692dc9c"
      },
      "source": [
        "**9. $\\lim\\limits_{x\\to0} (\\cos2x)^\\frac{1}{\\sin^2{x}}$**"
      ]
    },
    {
      "cell_type": "markdown",
      "id": "5cb7fe4d",
      "metadata": {
        "id": "5cb7fe4d"
      },
      "source": [
        "**10. $\\lim\\limits_{x\\to0} \\frac{\\sqrt{1+x\\sin{x}}-1}{x^2}$**<br>\n",
        "Умножим и разделим на $\\sqrt{1+x\\sin{x}}+1$\n",
        "$$\\frac{(\\sqrt{x\\sin(x)+1}-1)\\cdot (\\sqrt{x\\sin(x)+1}+1)}{x^2 \\cdot (\\sqrt{x\\sin(x)+1}+1)} = \\frac{x\\sin(x)}{x^2\\cdot \\sqrt{x\\sin(x)+1}+1} = \\frac{\\frac{\\sin(x)}{x}}{\\sqrt{x^2\\cdot \\frac{\\sin(x)}{x}+1}+1} = \\frac{1}{\\sqrt{x^2+1}+1}$$\n",
        "$$\\lim\\limits_{x\\to0} \\frac{1}{\\sqrt{x^2+1}+1} = \\lim\\limits_{x\\to0} \\frac{1}{\\sqrt{0^2+1}+1} = \\frac12$$"
      ]
    },
    {
      "cell_type": "markdown",
      "id": "9fefe241",
      "metadata": {
        "id": "9fefe241"
      },
      "source": [
        "##### Задание 2\n",
        "Установить характер разрыва функции в точке x0:\n",
        "1. $f(x) = \\frac{x^2-16}{x+4}, x_0 = -4$\n",
        "2. $f(x) = \\frac{\\sin{x}}{x}, x_0 = 0$"
      ]
    },
    {
      "cell_type": "markdown",
      "id": "f40331b3",
      "metadata": {
        "id": "f40331b3"
      },
      "source": [
        "**1. $f(x) = \\frac{x^2-16}{x+4}, x_0 = -4$**<br>\n",
        "Упростим f(x)\n",
        "$$f(x) = \\frac{x^2-16}{x+4} = \\frac{(x-4)\\cdot (x+4)}{x+4} = x-4$$\n",
        "Найдём пределы слева и справа\n",
        "$$\\lim\\limits_{x\\to-4-0} (x-4) = -8$$\n",
        "$$\\lim\\limits_{x\\to-4+0} (x-4) = -8$$\n",
        "### Ответ: Пределы конечны и равны друг другу, разрыв первого рода."
      ]
    },
    {
      "cell_type": "markdown",
      "id": "ec53c707",
      "metadata": {
        "id": "ec53c707"
      },
      "source": [
        "**2. $f(x) = \\frac{\\sin{x}}{x}, x_0 = 0$**<br>\n",
        "Найдём пределы слева и справа, т.к. это первый замечательный предел, то они будут равны 1.<br>\n",
        "## Ответ: Пределы конечны и равны друг другу, разрыв первого рода."
      ]
    },
    {
      "cell_type": "markdown",
      "id": "f8377948",
      "metadata": {
        "id": "f8377948"
      },
      "source": [
        "##### Задание 3\n",
        "Исследовать на непрерывность функцию f(x) в точке $x_0$:<br>\n",
        "1. $f(x) = arctg(\\frac{2}{x-1}), x_0 = 1$\n",
        "2. $f(x) = \\frac{1}{2^{x-3}-1}, x_0 = 3$"
      ]
    },
    {
      "cell_type": "markdown",
      "id": "95cdbec0",
      "metadata": {
        "id": "95cdbec0"
      },
      "source": [
        "**1. $f(x) = arctg(\\frac{2}{x-1}), x_0 = 1$**\n",
        "\n",
        "Функция не определена в точке, 0. Наблюдается разрыв.<br>\n",
        "Найдём левый и правый предел<br>\n",
        "$$\\lim\\limits_{x\\to1-0} arctg(\\frac{2}{x-1}) = -\\frac{\\pi}{2}$$\n",
        "$$\\lim\\limits_{x\\to1+0} arctg(\\frac{2}{x-1}) = \\frac{\\pi}{2}$$\n",
        "Односторонние пределы конечны и различны, значит, функция терпит разрыв 1-го рода со скачком в точке $x_0 = 1$"
      ]
    },
    {
      "cell_type": "markdown",
      "id": "c0e1acd6",
      "metadata": {
        "id": "c0e1acd6"
      },
      "source": [
        "**2. $f(x) = \\frac{1}{2^{x-3}-1}, x_0 = 3$**\n",
        "Функция не определена в точке, 0. Наблюдается разрыв.\n",
        "Найдём левый и правый предел\n",
        "$$\\lim\\limits_{x\\to3-0} \\frac{1}{2^{x-3}-1} = -\\infty$$\n",
        "$$\\lim\\limits_{x\\to3+0} \\frac{1}{2^{x-3}-1} = +\\infty$$\n",
        "Односторонние пределы бесконечны, значит, функция терпит разрыв 2-го рода в"
      ]
    }
  ],
  "metadata": {
    "kernelspec": {
      "display_name": "Python 3 (ipykernel)",
      "language": "python",
      "name": "python3"
    },
    "language_info": {
      "codemirror_mode": {
        "name": "ipython",
        "version": 3
      },
      "file_extension": ".py",
      "mimetype": "text/x-python",
      "name": "python",
      "nbconvert_exporter": "python",
      "pygments_lexer": "ipython3",
      "version": "3.10.6"
    },
    "colab": {
      "provenance": [],
      "include_colab_link": true
    }
  },
  "nbformat": 4,
  "nbformat_minor": 5
}