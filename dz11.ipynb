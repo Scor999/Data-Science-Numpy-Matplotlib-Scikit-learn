{
  "nbformat": 4,
  "nbformat_minor": 0,
  "metadata": {
    "colab": {
      "provenance": [],
      "authorship_tag": "ABX9TyP9pXqvwr+v0DyqnR8G/dzX",
      "include_colab_link": true
    },
    "kernelspec": {
      "name": "python3",
      "display_name": "Python 3"
    },
    "language_info": {
      "name": "python"
    }
  },
  "cells": [
    {
      "cell_type": "markdown",
      "metadata": {
        "id": "view-in-github",
        "colab_type": "text"
      },
      "source": [
        "<a href=\"https://colab.research.google.com/github/Scor999/Data-Science-Numpy-Matplotlib-Scikit-learn/blob/main/dz11.ipynb\" target=\"_parent\"><img src=\"https://colab.research.google.com/assets/colab-badge.svg\" alt=\"Open In Colab\"/></a>"
      ]
    },
    {
      "cell_type": "markdown",
      "source": [
        "## Задания к занятию №11\n",
        "1. Решить уравнения:    \n",
        "$y^{\\prime}-y=2x-3$;    \n",
        "$x^2y^{\\prime}+xy+1=0$\n"
      ],
      "metadata": {
        "id": "DztfLtixOoRz"
      }
    },
    {
      "cell_type": "markdown",
      "source": [
        "Решение общего уравнения $y^{\\prime}-y=2x-3$    \n",
        "Общее решение линейного уравнения первого порядка вида $y^{\\prime}+p(x)y=g(x)$ можно найти, используя интегрирующий множитель $\\mu(x)=e^{\\int 𝑝(𝑥) 𝑑𝑥}$. В нашем случае $p(x)=-1$.  \n",
        "1. Найдём интегрирующий множитель $\\mu(x)$:\n",
        "$$\\mu(x)=e^{\\int -1 𝑑𝑥}=e^{-x}$$\n",
        "2. Умножим уравнение $\\mu(x)$:  \n",
        "$$e^{-x}y^{\\prime}-e^{-x}y=(2x-3)e^{-x}$$\n",
        "3.Левая часть становится полной производной:\n",
        "$$\\frac{d}{dx}(e^{-x}y)=(2x-3)e^{-x}$$\n",
        "4. Интегрируем обе стороны:\n",
        "$$e^{-x}y=\\int (2x-3)e^{-x}dx$$\n",
        "5. Используем метод интегрирования по частям для интеграла $\\int (2x-3)e^{-x}dx$:   \n",
        "Пусть $u=2x-3$, тогда $du=2dx$  \n",
        "Пусть $dv=e^{-x}dx$, тогда $v=-e^{-x}$.\n",
        "\n",
        "$$\\int u dv=uv-\\int vdu$$\n",
        "$$\\int (2x-3)e^{-x}dx=-(2x-3)e^{-x}+\\int 2e^{-x}dx=-(2x-3)e^{-x}-2e^{-x}+C=-(2x-3+2)e^{-x}+C=-(2x-1)e^{-x}+C$$\n",
        "\n",
        "6. Подставляем в уравнение:   \n",
        "$$e^{-x}y=-(2x-1)e^{-x}+C$$\n",
        "7. Умножаем обе стороны на $e^{x}$:\n",
        "$$y=-(2x-1)+Ce^{x}$$  \n",
        "\n",
        "## Таким образом, общее решение уравнения: $y=-2x+1+Ce^{x}$"
      ],
      "metadata": {
        "id": "I4tbZmvfRGfv"
      }
    },
    {
      "cell_type": "markdown",
      "source": [
        "Перепишем уравнение: $x^2y^{\\prime}+xy+1=0$     \n",
        "$$x^{2} \\frac {dy}{dx}=-xy-1$$\n",
        "$$\\frac {dy}{dx}=-\\frac {xy+1}{x^{2}}$$\n",
        "Теперь разделим переменные:\n",
        "$$\\frac {dy}{dx}=-\\frac {xy+1}{x^{2}}\\Rightarrow \\frac {dy} {xy+1}=-\\frac {dx} {x^{2}} $$\n",
        "Интегрируем обе части:\n",
        "$$\\int \\frac {dy}{xy+1}$$\n",
        "$$\\int -\\frac {dx}{x^{2}}= \\int -x^{-2}dx=x^{-1}+C$$\n",
        "Подстановка и дальнейшее решение уравнения приводят к интегральной зависимости:\n",
        "$$ln |xy+1|=\\frac {1}{x}+C$$\n",
        "Решим относительно $y$:\n",
        "$$xy+1=e^{\\frac{1}{x}+C}$$\n",
        "$$y= \\frac{e^{\\frac{1}{x}+C}-1}{x}$$\n",
        "## Общее решение уравнения: $y= \\frac{e^{\\frac{1}{x}+C}-1}{x}$"
      ],
      "metadata": {
        "id": "UPQI8OoXbVMb"
      }
    },
    {
      "cell_type": "markdown",
      "source": [
        "2. Исследовать ряд на сходимость:\n",
        "$$\\sum \\limits_{n=1}^{\\infty}\\frac {n+2} {n^{2}+n+1}$$\n",
        "Признак предельного сравнения\n",
        "Сравним $\\frac {n+2}{n^{2}+n+1}$ и $\\frac {1}{n}$\n",
        "\n",
        "$$\\lim\\limits_{n\\to\\infty}\\frac{\\frac{n+2}{n^{2}+n+1}}{\\frac{1}{n}}=\\lim\\limits_{n\\to\\infty}\\frac{n(n+2)}{n^{2}+n+1}=\\lim\\limits_{n\\to\\infty}\\frac{n^{2}+2n}{n^{2}+n+1}$$\n",
        "Делим числитель и знаменатель на $n^{2}$:\n",
        "$$\\lim\\limits_{n\\to\\infty}\\frac{1+\\frac{2}{n}}{1+\\frac{1}{n}+\\frac{1}{n^{2}}}=1$$\n",
        "## Так как предел равен 1, следовательно, и наш ряд **расходится** по признаку предельного сравнения.\n"
      ],
      "metadata": {
        "id": "wE18NxNre-LE"
      }
    },
    {
      "cell_type": "markdown",
      "source": [
        "$$\\sum \\limits_{n=1}^{\\infty}\\frac{n^{n}}{n!}$$\n",
        "Проверим условие сходимости ряда:\n",
        "$$\\lim\\limits_{n\\to\\infty}\\frac{n^{n}}{n!}=\\infty$$\n",
        "Предел не равен 0, поэтому ряд **расходиться**."
      ],
      "metadata": {
        "id": "vDN-nPt0kfRE"
      }
    },
    {
      "cell_type": "markdown",
      "source": [
        "$$\\sum \\limits_{n=1}^{\\infty}n\\cdot \\bigg(1-\\frac{1}{n}\\bigg)^{n^{2}}$$\n",
        "Исследование сходимости   \n",
        "Чтобы исследовать сходимость ряда, сравним $a_n$ с эталонным рядом. Поскольку $e^{-n}$ убывает экспоненциально, то есть гораздо быстрее, чем любое полиномиальное выражение $n$, предположим, что ряд $\\sum \\limits_{n=1}^{\\infty}n\\cdot e^{-n}$ сходится.\n",
        "Признак сравнения\n",
        "Сравним  $\\sum \\limits_{n=1}^{\\infty} a_n$ с рядом  $\\sum \\limits_{n=1}^{\\infty} b_n$, где\n",
        "$$b_n=n\\cdot e^{-n}$$\n",
        "Оценка верхней границы  \n",
        "Заметим, что\n",
        "$$a_n=n\\big(1-\\frac{1}{n}\\big)^{n^{2}}\\approx n\\cdot e^{-n}$$\n",
        "Для достаточно больших $n$ мы имеем:\n",
        "$$0<a_n<b_n$$\n",
        "Рассмотрим ряд $\\sum \\limits_{n=1}^{\\infty}n\\cdot e^{-n} $. Оценим сходимость этого ряда, применяя признак сравнения:\n",
        "Поскольку $\\sum \\limits_{n=1}^{\\infty}n\\cdot e^{-n} $ сходится (экспоненциальное убывание доминирует над линейным ростом $n$), и $a_n<b_n$, то и ряд $\\sum \\limits_{n=1}^{\\infty} a_n$ сходится.      \n",
        "Таким образом, ряд\n",
        "$$\\sum \\limits_{n=1}^{\\infty}n\\cdot \\bigg(1-\\frac{1}{n}\\bigg)^{n^{2}}$$\n",
        "**сходится**.\n"
      ],
      "metadata": {
        "id": "E3BUCDA_n3Tw"
      }
    },
    {
      "cell_type": "markdown",
      "source": [
        "$$\\sum \\limits_{n=1}^{\\infty}\\frac{(-1)^{n+1}}{2\\cdot n-ln(n)}$$\n",
        "Используем признак Лейбница.\n",
        "Условие 1: Монотонное убывание\n",
        "$$b_{n+1}<b_n \\iff \\frac {1}{2(n+1)-ln(n+1)}< \\frac {1}{2n-ln(n)}$$\n",
        "$$\\iff -ln(n)<2-ln(n+1)$$\n",
        "$$\\iff ln\\big(\\frac{n+1}{n}\\big)<2$$\n",
        "Так как $ln \\big( \\frac{n+1}{n}\\big)=ln \\big(1+ \\frac {1}{n} \\big)$, и для больших $n$, $ln \\big(1+ \\frac{1}{n} \\big)$ приближается к $0$, то действительно:\n",
        "$$ln \\bigg(\\frac{n+1}{n}\\bigg)< 2$$\n",
        "Таким образом, $b_n$ является монотонно убывающей последовательностью для достаточно больших $n$.   \n",
        "Условие 2: Предел к нулю\n",
        "$$\\lim\\limits_{n\\to\\infty}\\frac{1}{2n-ln(n)}=\\lim\\limits_{n\\to\\infty}\\frac{1}{2n}=0$$\n",
        "Абсолютная сходимость\n",
        "$$\\sum \\limits_{n=1}^{\\infty}\\bigg|\\frac{(-1)^{n+1}}{2\\cdot n-ln(n)}\\bigg|=\\sum \\limits_{n=1}^{\\infty}\\frac{1}{2n-ln(n)}$$\n",
        "Признак сравнения   \n",
        "Сравним с рядом $\\sum \\limits_{n=1}^{\\infty} \\frac{1}{2n}$, который известен как гармонический ряд, и он расходиться:\n",
        "$$\\frac{1}{2n-ln(n)}\\approx \\frac {1}{2n}$$\n",
        "При больших $n$, $ln(n)$ растет медленно по сравнению с $2n$, и\n",
        "$$2n-ln(n)\\approx 2n$$\n",
        "Таким образом, $\\frac {1}{2n-ln(n)}$  асимптотически подобен $\\frac{1}{2n}$. Поэтому ряд $\\sum \\limits_{n=1}^{\\infty} \\frac {1}{2n-ln(n)} $также расходится, как и гармонический ряд $\\sum \\limits_{n=1}^{\\infty} \\frac{1}{2n}$\n",
        "### Заключение\n",
        "Хотя ряд\n",
        "$$\\sum \\limits_{n=1}^{\\infty}\\frac{(-1)^{n+1}}{2\\cdot n-ln(n)}$$\n",
        "сходится, он не сходится абсолютно, поскольку соответствующий ряд положительных членов $\\sum \\limits_{n=1}^{\\infty}\\frac{1}{2n-ln(n)}$ расходится. Таким образом, **сходится условно по признаку Лейбница**."
      ],
      "metadata": {
        "id": "KilbMOsny3cH"
      }
    },
    {
      "cell_type": "markdown",
      "source": [
        " $$\\sum \\limits_{n=1}^{\\infty}\\frac {(x-2)^{n+1}}{3^n(n+2)}$$\n",
        " Признак д'Аламбера (отношений)   \n",
        " Для исследования сходимости воспользуемся признаком д'Аламбера. Рассмотрим предел отношения последовательных членов ряда:\n",
        " $$\\bigg|\\frac {a_{n+1}}{a_n}\\bigg|=\\bigg|\\frac{(x-2)^{n+2}}{3^{n+1}(n+3)}\\cdot \\frac {3^n(n+2)}{(x-2)^{n+1}}\\bigg|= \\bigg|\\frac {(x-2)\\cdot (n+2)}{3(n+3)}\\bigg|$$\n",
        " Теперь найдём предел:\n",
        " $$\\lim\\limits_{n\\to\\infty}\\bigg| \\frac {a_{n+1}}{a_n}\\bigg|=\\lim\\limits_{n\\to\\infty}\\bigg|\\frac {(x-2)(n+2)}{3(n+3)}= \\bigg|\\frac {x-2}{3}\\bigg|\\cdot \\lim\\limits_{n\\to\\infty}\\frac {n+2}{n+3}= \\bigg| \\frac {x-2}{3}\\cdot 1= \\bigg| \\frac {x-2}{3}\\bigg|$$\n",
        "По признаку д'Аламбера ряд сходится, если\n",
        "$$\\frac {x-2}{3}<1$$\n",
        "Это неравенство можно переписать как:\n",
        "$$-1< \\frac {x-2}{3}<1$$\n",
        "Умножим всё неравенство на 3:\n",
        "$$-3<x-2<3$$\n",
        "Добавим 2 ко всем частям неравенства:\n",
        "$$-1<x<5$$\n",
        "Таким образом, для сходимости ряда требуется, чтобы $x$ находился в интервале $(-1,5)$.\n",
        "## Вывод: Ряд **сходится** в полуоткрытом интервале (-1,5)"
      ],
      "metadata": {
        "id": "NRkGJulE9P1W"
      }
    },
    {
      "cell_type": "markdown",
      "source": [],
      "metadata": {
        "id": "9rMvLDTSZhuW"
      }
    }
  ]
}